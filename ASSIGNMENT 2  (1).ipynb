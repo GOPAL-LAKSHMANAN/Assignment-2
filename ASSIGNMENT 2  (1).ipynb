{
 "cells": [
  {
   "cell_type": "markdown",
   "id": "9ae87d4f-2576-42ac-b818-aa4d030f5e7b",
   "metadata": {},
   "source": [
    "# Functions"
   ]
  },
  {
   "cell_type": "markdown",
   "id": "069009ba-5705-419e-97cf-5cd6217ed4d8",
   "metadata": {},
   "source": [
    "### 1) Write a function add_numbers that takes two number as arguments and return there sum."
   ]
  },
  {
   "cell_type": "code",
   "execution_count": 7,
   "id": "ab4d67ce-72c1-4414-9c14-1794c653b906",
   "metadata": {},
   "outputs": [
    {
     "name": "stdout",
     "output_type": "stream",
     "text": [
      "sum of a+b: 30\n"
     ]
    }
   ],
   "source": [
    "def add_numbers(a,b):\n",
    "    return(a,b)\n",
    "a=10\n",
    "b=20\n",
    "add = a+b\n",
    "print(\"sum of a+b:\", add)"
   ]
  },
  {
   "cell_type": "markdown",
   "id": "4ebb4887-b815-49a5-9396-25733d556096",
   "metadata": {},
   "source": [
    "### 2) Write a function multiply_numbers that takes two number as arguments and return there product"
   ]
  },
  {
   "cell_type": "code",
   "execution_count": 23,
   "id": "ca1adcf4-0098-4d45-9d95-11a690c5cd41",
   "metadata": {},
   "outputs": [
    {
     "name": "stdout",
     "output_type": "stream",
     "text": [
      "product of a*b: 50\n"
     ]
    }
   ],
   "source": [
    "def multiply_numbers(a,b):\n",
    "    return(a,b)\n",
    "a=5\n",
    "b=10\n",
    "product = a*b\n",
    "print(\"product of a*b:\", product)"
   ]
  },
  {
   "cell_type": "markdown",
   "id": "09ed1a05-0c2e-477b-a52c-94486b360a51",
   "metadata": {},
   "source": [
    "### 3) Write a function divide_numbers that takes two number as arguments and return their quotient. make sure to handle the case where second number is 0"
   ]
  },
  {
   "cell_type": "code",
   "execution_count": 10,
   "id": "009404d4-e34f-4c0a-85ad-0aea4dbeed55",
   "metadata": {},
   "outputs": [
    {
     "name": "stdout",
     "output_type": "stream",
     "text": [
      "Result 1: 5.0\n",
      "Error: Cannot divide by zero!\n",
      "Result 2: None\n"
     ]
    }
   ],
   "source": [
    "def divide_numbers(a, b):\n",
    "    if b == 0:\n",
    "        print(\"Error: Cannot divide by zero!\")\n",
    "        return None\n",
    "    else:\n",
    "        return a / b\n",
    "\n",
    "result1 = divide_numbers(10, 2)\n",
    "print(\"Result 1:\", result1)\n",
    "\n",
    "result2 = divide_numbers(5, 0)\n",
    "print(\"Result 2:\", result2)\n"
   ]
  },
  {
   "cell_type": "markdown",
   "id": "81c061c5-7a43-4fd0-a279-3da21783f7e1",
   "metadata": {},
   "source": [
    "### 4) write a function calculate_avarage that takes a list of numbers as an argument and return there average."
   ]
  },
  {
   "cell_type": "code",
   "execution_count": 105,
   "id": "1775a306-2bc3-4696-84e3-0109b1517440",
   "metadata": {},
   "outputs": [],
   "source": [
    "def calculate_average(number):\n",
    "        return sum(number)/len(number)"
   ]
  },
  {
   "cell_type": "code",
   "execution_count": 106,
   "id": "14400bd3-25ed-480d-8427-7ad24c1c90fa",
   "metadata": {},
   "outputs": [],
   "source": [
    "number= [5,10,15,20,25]"
   ]
  },
  {
   "cell_type": "code",
   "execution_count": 107,
   "id": "e99e5d13-3e8e-4c1b-93e9-614eb4c31b76",
   "metadata": {},
   "outputs": [
    {
     "name": "stdout",
     "output_type": "stream",
     "text": [
      "the average is: 15.0\n"
     ]
    }
   ],
   "source": [
    "average= sum(number)/len(number)\n",
    "calculate_average(number)\n",
    "print(\"the average is:\", average)"
   ]
  },
  {
   "cell_type": "markdown",
   "id": "93d3f0e8-0a3d-413b-8390-28282940c605",
   "metadata": {},
   "source": [
    "### 5) write a function is_prime that takes a number as argument and returns true if the number is prime and false otherwise."
   ]
  },
  {
   "cell_type": "code",
   "execution_count": 14,
   "id": "fe0160f8-0fc0-4b7e-b0a7-134b741acd95",
   "metadata": {},
   "outputs": [
    {
     "name": "stdout",
     "output_type": "stream",
     "text": [
      "Is 7 prime? True\n",
      "Is 14 prime? False\n"
     ]
    }
   ],
   "source": [
    "def is_prime(number):\n",
    "    if number < 2:\n",
    "        return False\n",
    "    for i in range(2, int(number**0.5) + 1):\n",
    "        if number % i == 0:\n",
    "            return False\n",
    "            return True\n",
    "\n",
    "result1 = is_prime(7)\n",
    "print(\"Is 7 prime?\", result1)\n",
    "\n",
    "result2 = is_prime(14)\n",
    "print(\"Is 14 prime?\", result2)\n"
   ]
  },
  {
   "cell_type": "markdown",
   "id": "29860939-5cf9-4acc-b607-d2ed62a416f8",
   "metadata": {},
   "source": [
    "## OOPS"
   ]
  },
  {
   "cell_type": "markdown",
   "id": "509224c0-b014-4f98-bc6f-d0372c4e2072",
   "metadata": {},
   "source": [
    "### 6) Create a class bank with attributes name and accounts. Add methods add_account, remove_account,and get_total_balance that add an account to lits, remove an account from the list and return the total balance from the list and return the total balance of all account respectively."
   ]
  },
  {
   "cell_type": "code",
   "execution_count": 9,
   "id": "b4649fdc-7708-4354-b502-106f604eb978",
   "metadata": {},
   "outputs": [
    {
     "name": "stdout",
     "output_type": "stream",
     "text": [
      "Total balance in the bank: 3000\n",
      "Total balance in the bank after removing account1: 2000\n"
     ]
    }
   ],
   "source": [
    "class Bank:\n",
    "    def __init__(self, name):\n",
    "        self.name = name\n",
    "        self.accounts = []\n",
    "\n",
    "    def add_account(self, account):\n",
    "        self.accounts.append(account)\n",
    "\n",
    "    def remove_account(self, account):\n",
    "        if account in self.accounts:\n",
    "            self.accounts.remove(account)\n",
    "\n",
    "    def get_total_balance(self):\n",
    "        return sum(account.balance for account in self.accounts)\n",
    "\n",
    "\n",
    "class Account:\n",
    "    def __init__(self, balance):\n",
    "        self.balance = balance\n",
    "\n",
    "\n",
    "bank = Bank(\"MyBank\")\n",
    "account1 = Account(1000)\n",
    "account2 = Account(2000)\n",
    "\n",
    "bank.add_account(account1)\n",
    "bank.add_account(account2)\n",
    "\n",
    "print(\"Total balance in the bank:\", bank.get_total_balance())\n",
    "\n",
    "bank.remove_account(account1)\n",
    "\n",
    "print(\"Total balance in the bank after removing account1:\", bank.get_total_balance())\n"
   ]
  }
 ],
 "metadata": {
  "kernelspec": {
   "display_name": "Python 3 (ipykernel)",
   "language": "python",
   "name": "python3"
  },
  "language_info": {
   "codemirror_mode": {
    "name": "ipython",
    "version": 3
   },
   "file_extension": ".py",
   "mimetype": "text/x-python",
   "name": "python",
   "nbconvert_exporter": "python",
   "pygments_lexer": "ipython3",
   "version": "3.12.2"
  }
 },
 "nbformat": 4,
 "nbformat_minor": 5
}
